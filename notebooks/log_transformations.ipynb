{
 "cells": [
  {
   "cell_type": "markdown",
   "id": "3be2d5b6",
   "metadata": {},
   "source": [
    "# 🏠 House Price Prediction Lab - Solution\n",
    "\n",
    "**Project Description**:\n",
    "\n",
    "The goal of this project is to predict house price based on real estate features extracted for houses in Bengaluru. The major sequence of steps in the coding process are listed below:\n",
    "\n",
    "1.   Load and clean up the data.\n",
    "2.   Analyze the features (*ordinal, categorical*, and *continuous*) for missingness, correct data type association, and distribution.\n",
    "3.   Spit the data into train and test sets..\n",
    "4.   Build an ML pipeline (*encoder -> imputer -> regression module*) for the train set by specifying seperate ecoding and imputing steps (if needed) for ordinal, categorical, and continuous features.\n",
    "5.   Train the ML pipeline on the train set and apply it for prediction on the test set.\n",
    "6.   Report performance metrics"
   ]
  },
  {
   "cell_type": "markdown",
   "id": "8720f9f3",
   "metadata": {},
   "source": [
    "---\n",
    "\n",
    "Import libraries\n",
    "\n",
    "---"
   ]
  },
  {
   "cell_type": "code",
   "execution_count": 1,
   "id": "b3f63ead",
   "metadata": {},
   "outputs": [],
   "source": [
    "import pandas as pd\n",
    "import numpy as np\n",
    "import os\n",
    "import sys\n",
    "import math\n",
    "import matplotlib.pyplot as plt\n",
    "import matplotlib.cm as cm\n",
    "plt.style.use('dark_background')\n",
    "%matplotlib inline\n",
    "\n",
    "## Pipeline module\n",
    "from sklearn.pipeline import Pipeline\n",
    "\n",
    "## Scaling, encoding, and imputation libraries\n",
    "from sklearn.preprocessing import StandardScaler, RobustScaler, MinMaxScaler, OneHotEncoder, OrdinalEncoder, LabelEncoder, FunctionTransformer\n",
    "from sklearn.experimental import enable_iterative_imputer\n",
    "from sklearn.impute import SimpleImputer, IterativeImputer\n",
    "\n",
    "# Column trandformation library\n",
    "from sklearn.compose import ColumnTransformer\n",
    "\n",
    "## Train-test, cross-validation, and grid search modules\n",
    "from sklearn.model_selection import train_test_split\n",
    "\n",
    "## Cross-validation and grid search modules\n",
    "from sklearn.model_selection import KFold, StratifiedKFold, GridSearchCV, cross_val_score\n",
    "\n",
    "## Regression modules\n",
    "from sklearn import linear_model\n",
    "\n",
    "## Performance metrics modules\n",
    "from sklearn.metrics import mean_squared_error, r2_score\n",
    "\n",
    "## Model serialization module\n",
    "import joblib"
   ]
  },
  {
   "cell_type": "markdown",
   "id": "87cf61a2",
   "metadata": {},
   "source": [
    "---\n",
    "\n",
    "Mount Google Drive if running in Colab\n",
    "\n",
    "---"
   ]
  },
  {
   "cell_type": "code",
   "execution_count": 2,
   "id": "aaf80410",
   "metadata": {},
   "outputs": [],
   "source": [
    "## Mount Google drive folder if running in Colab\n",
    "if('google.colab' in sys.modules):\n",
    "    from google.colab import drive\n",
    "    drive.mount('/content/drive', force_remount = True)\n",
    "    DIR = '/content/drive/MyDrive/Colab Notebooks/ALA_MAHE/'\n",
    "    DATA_DIR = DIR + '/Data/'\n",
    "    os.chdir(DIR)\n",
    "else:\n",
    "    DATA_DIR = '../data/'"
   ]
  },
  {
   "cell_type": "markdown",
   "id": "a253c007",
   "metadata": {},
   "source": [
    "---\n",
    "\n",
    "Load bengaluru house price data\n",
    "\n",
    "---"
   ]
  },
  {
   "cell_type": "code",
   "execution_count": 3,
   "id": "742f3549",
   "metadata": {},
   "outputs": [
    {
     "name": "stdout",
     "output_type": "stream",
     "text": [
      "Bengaluru house price dataset\n",
      "-----------\n",
      "Initial number of samples = 225\n",
      "Initial number of features = 8\n",
      "\n"
     ]
    },
    {
     "data": {
      "text/html": [
       "<div>\n",
       "<style scoped>\n",
       "    .dataframe tbody tr th:only-of-type {\n",
       "        vertical-align: middle;\n",
       "    }\n",
       "\n",
       "    .dataframe tbody tr th {\n",
       "        vertical-align: top;\n",
       "    }\n",
       "\n",
       "    .dataframe thead th {\n",
       "        text-align: right;\n",
       "    }\n",
       "</style>\n",
       "<table border=\"1\" class=\"dataframe\">\n",
       "  <thead>\n",
       "    <tr style=\"text-align: right;\">\n",
       "      <th></th>\n",
       "      <th>locality</th>\n",
       "      <th>area</th>\n",
       "      <th>rent</th>\n",
       "      <th>price_per_sqft</th>\n",
       "      <th>facing</th>\n",
       "      <th>BHK</th>\n",
       "      <th>bathrooms</th>\n",
       "      <th>parking</th>\n",
       "    </tr>\n",
       "  </thead>\n",
       "  <tbody>\n",
       "    <tr>\n",
       "      <th>0</th>\n",
       "      <td>BTM Layout</td>\n",
       "      <td>565.0</td>\n",
       "      <td>20060.0</td>\n",
       "      <td>6195.0</td>\n",
       "      <td>North-West</td>\n",
       "      <td>1</td>\n",
       "      <td>1</td>\n",
       "      <td>Bike</td>\n",
       "    </tr>\n",
       "    <tr>\n",
       "      <th>1</th>\n",
       "      <td>BTM Layout</td>\n",
       "      <td>1837.0</td>\n",
       "      <td>97434.0</td>\n",
       "      <td>9254.0</td>\n",
       "      <td>East</td>\n",
       "      <td>3</td>\n",
       "      <td>3</td>\n",
       "      <td>Bike and Car</td>\n",
       "    </tr>\n",
       "    <tr>\n",
       "      <th>2</th>\n",
       "      <td>BTM Layout</td>\n",
       "      <td>1280.0</td>\n",
       "      <td>54448.0</td>\n",
       "      <td>7422.0</td>\n",
       "      <td>East</td>\n",
       "      <td>2</td>\n",
       "      <td>2</td>\n",
       "      <td>Car</td>\n",
       "    </tr>\n",
       "    <tr>\n",
       "      <th>3</th>\n",
       "      <td>BTM Layout</td>\n",
       "      <td>2220.0</td>\n",
       "      <td>117000.0</td>\n",
       "      <td>9234.0</td>\n",
       "      <td>North</td>\n",
       "      <td>3</td>\n",
       "      <td>3</td>\n",
       "      <td>Bike and Car</td>\n",
       "    </tr>\n",
       "    <tr>\n",
       "      <th>4</th>\n",
       "      <td>BTM Layout</td>\n",
       "      <td>1113.0</td>\n",
       "      <td>34388.0</td>\n",
       "      <td>5391.0</td>\n",
       "      <td>East</td>\n",
       "      <td>2</td>\n",
       "      <td>2</td>\n",
       "      <td>Bike and Car</td>\n",
       "    </tr>\n",
       "  </tbody>\n",
       "</table>\n",
       "</div>"
      ],
      "text/plain": [
       "     locality    area      rent  price_per_sqft      facing  BHK  bathrooms  \\\n",
       "0  BTM Layout   565.0   20060.0          6195.0  North-West    1          1   \n",
       "1  BTM Layout  1837.0   97434.0          9254.0        East    3          3   \n",
       "2  BTM Layout  1280.0   54448.0          7422.0        East    2          2   \n",
       "3  BTM Layout  2220.0  117000.0          9234.0       North    3          3   \n",
       "4  BTM Layout  1113.0   34388.0          5391.0        East    2          2   \n",
       "\n",
       "        parking  \n",
       "0          Bike  \n",
       "1  Bike and Car  \n",
       "2           Car  \n",
       "3  Bike and Car  \n",
       "4  Bike and Car  "
      ]
     },
     "execution_count": 3,
     "metadata": {},
     "output_type": "execute_result"
    }
   ],
   "source": [
    "## Load Bengaluru house price data\n",
    "file = DATA_DIR + 'houseprices.csv'\n",
    "df= pd.read_csv(file, header = 0)\n",
    "\n",
    "print('Bengaluru house price dataset')\n",
    "print('-----------')\n",
    "print('Initial number of samples = %d'%(df.shape[0]))\n",
    "print('Initial number of features = %d\\n'%(df.shape[1]))\n",
    "df.head(5)"
   ]
  },
  {
   "cell_type": "markdown",
   "id": "830821a8",
   "metadata": {},
   "source": [
    "---\n",
    "\n",
    "Plot percentage of missing values (NaNs) for each feature\n",
    "\n",
    "---"
   ]
  },
  {
   "cell_type": "code",
   "execution_count": 4,
   "id": "04320579",
   "metadata": {},
   "outputs": [
    {
     "data": {
      "image/png": "[encoded data removed]",
      "text/plain": [
       "<Figure size 400x400 with 1 Axes>"
      ]
     },
     "metadata": {},
     "output_type": "display_data"
    }
   ],
   "source": [
    "## Plot percentage of missing values (NaNs) for each feature\n",
    "cutoff = 10 # we will remove features missing in more than cutoff% of the samples\n",
    "fig = plt.figure(figsize=(4, 4))\n",
    "percent_missing = (df.isna().sum() / df.shape[0]) * 100\n",
    "percent_missing.plot(kind = 'bar', color = cm.rainbow(np.linspace(0, 1, 2))[(percent_missing <= cutoff).values.astype(int)])\n",
    "plt.plot(np.arange(df.shape[1]), np.repeat(cutoff, df.shape[1]), 'g--')\n",
    "fig.suptitle('Percentage Missing Values Across All Features', fontsize = 10)\n",
    "plt.xlabel('Feature', fontsize = 8)\n",
    "plt.ylabel('% Missing Values', fontsize = 8)\n",
    "plt.xticks(rotation = 90)\n",
    "plt.yticks(fontsize = 8)\n",
    "plt.ylim(0, 11)\n",
    "plt.grid(axis = 'y')\n",
    "plt.show()"
   ]
  },
  {
   "cell_type": "markdown",
   "id": "44bc1ab7",
   "metadata": {},
   "source": [
    "---\n",
    "\n",
    "Create lists of ordinal, categorical, and continuous features\n",
    "\n",
    "---"
   ]
  },
  {
   "cell_type": "code",
   "execution_count": 5,
   "id": "2b1acfa3",
   "metadata": {},
   "outputs": [],
   "source": [
    "## Create lists of ordinal, categorical, and continuous features\n",
    "ordinal_features = ['BHK','bathrooms']\n",
    "categorical_features = ['locality','parking','facing']\n",
    "continuous_features = (df.drop(ordinal_features, axis = 1)).drop(categorical_features, axis = 1).columns.tolist()\n",
    "\n",
    "# Remove target variable from continuous features\n",
    "continuous_features.remove('price_per_sqft')"
   ]
  },
  {
   "cell_type": "markdown",
   "id": "f5ef1472",
   "metadata": {},
   "source": [
    "---\n",
    "\n",
    "Treat \"missingness\" as another level in the categorical variables\n",
    "\n",
    "---"
   ]
  },
  {
   "cell_type": "code",
   "execution_count": 6,
   "id": "6cdd3a13",
   "metadata": {},
   "outputs": [],
   "source": [
    "# Replace NaN with 'Missing' in categorical columns\n",
    "df[categorical_features] = df[categorical_features].fillna('Missing')"
   ]
  },
  {
   "cell_type": "markdown",
   "id": "cc251869",
   "metadata": {},
   "source": [
    "---\n",
    "\n",
    "Assign 'category' datatype to ordinal and categorical columns\n",
    "\n",
    "---"
   ]
  },
  {
   "cell_type": "code",
   "execution_count": 7,
   "id": "796ad2b7",
   "metadata": {},
   "outputs": [
    {
     "name": "stdout",
     "output_type": "stream",
     "text": [
      "locality           object\n",
      "area              float64\n",
      "rent              float64\n",
      "price_per_sqft    float64\n",
      "facing             object\n",
      "BHK                 int64\n",
      "bathrooms           int64\n",
      "parking            object\n",
      "dtype: object\n",
      "----\n"
     ]
    },
    {
     "data": {
      "text/plain": [
       "locality          category\n",
       "area               float64\n",
       "rent               float64\n",
       "price_per_sqft     float64\n",
       "facing            category\n",
       "BHK               category\n",
       "bathrooms         category\n",
       "parking           category\n",
       "dtype: object"
      ]
     },
     "execution_count": 7,
     "metadata": {},
     "output_type": "execute_result"
    }
   ],
   "source": [
    "## Assign 'category' datatype to ordinal and categorical columns\n",
    "print(df.dtypes)\n",
    "df[ordinal_features + categorical_features] = df[ordinal_features + categorical_features].astype('category')\n",
    "print('----')\n",
    "df.dtypes "
   ]
  },
  {
   "cell_type": "markdown",
   "id": "cc96a406",
   "metadata": {},
   "source": [
    "---\n",
    "\n",
    "Print unique values in each ordinal and categorical features\n",
    "\n",
    "---"
   ]
  },
  {
   "cell_type": "code",
   "execution_count": 8,
   "id": "37bc3115",
   "metadata": {},
   "outputs": [
    {
     "name": "stdout",
     "output_type": "stream",
     "text": [
      "BHK           4\n",
      "bathrooms    10\n",
      "locality      9\n",
      "parking       4\n",
      "facing        8\n",
      "dtype: int64\n",
      "\n",
      "Unique values in ordinal and categorical features\n",
      "---------------------------------------------------\n",
      "BHK [1, 3, 2, 4]\n",
      "bathrooms [1, 3, 2, 5, 13, 4, 26, 16, 6, 14]\n",
      "locality ['BTM Layout', 'Attibele', 'K R Puram ', 'Marathahalli', 'Indiranagar', 'Electronic City', 'Yalahanka', 'Malleshwaram', 'Jayanagar']\n",
      "parking ['Bike', 'Bike and Car', 'Car', 'Missing']\n",
      "facing ['North-West', 'East', 'North', 'West', 'North-East', 'South-East', 'South', 'Missing']\n"
     ]
    }
   ],
   "source": [
    "## Print unique values in each ordinal and categorical features\n",
    "print(df[ordinal_features + categorical_features].nunique())\n",
    "print('\\nUnique values in ordinal and categorical features')\n",
    "print('---------------------------------------------------')\n",
    "unique_values = {col:list(df[col].unique()) for col in ordinal_features + categorical_features}\n",
    "for key, value in unique_values.items():\n",
    "  print(key,value)"
   ]
  },
  {
   "cell_type": "markdown",
   "id": "62c441e8",
   "metadata": {},
   "source": [
    "---\n",
    "\n",
    "Build pipeline for ordinal, categorical, and continuous features\n",
    "\n",
    "---"
   ]
  },
  {
   "cell_type": "code",
   "execution_count": 9,
   "id": "afcc7184",
   "metadata": {},
   "outputs": [],
   "source": [
    "## Build pipeline for ordinal, categorical, and continuous features\n",
    "\n",
    "# Pipeline object for ordinal features\n",
    "ordinal_transformer = Pipeline(steps = [('ordinalenc', OrdinalEncoder())])\n",
    "\n",
    "# Pipeline object for categorical (features\n",
    "categorical_transformer = Pipeline(steps = [('onehotenc', OneHotEncoder(handle_unknown = 'ignore'))])\n",
    "# Use the following if missing values are to be imputed\n",
    "# categorical_transformer = Pipeline(steps = [('imputer', SimpleImputer(missing_values = np.nan, strategy = 'most_frequent')), ('onehotenc', OneHotEncoder(handle_unknown = 'ignore'))])\n",
    "\n",
    "# Pipeline object for continuous features\n",
    "continuous_transformer = Pipeline(steps = [('log', FunctionTransformer(func = np.log1p, validate = True)), ('scaler', StandardScaler())])\n",
    "\n",
    "\n",
    "\n",
    "# Create a preprocessor object for all features\n",
    "preprocessor = ColumnTransformer(transformers = [('continuous', continuous_transformer, continuous_features),\n",
    "                                                 ('categorical', categorical_transformer, categorical_features),\n",
    "                                                 ('ordinal', ordinal_transformer, ordinal_features)\n",
    "                                                ],\n",
    "                                 remainder = 'passthrough'\n",
    "                                 )\n",
    "\n",
    "# Define a classifier object\n",
    "regressor = linear_model.LinearRegression()\n",
    "\n",
    "# Define the entire classification model pipeline\n",
    "model_pipeline = Pipeline(steps = [(\"preprocessor\", preprocessor), (\"Regressssor\", regressor)])"
   ]
  },
  {
   "cell_type": "markdown",
   "id": "13666700",
   "metadata": {},
   "source": [
    "---\n",
    "\n",
    "Train-test split of the dataset\n",
    "\n",
    "---"
   ]
  },
  {
   "cell_type": "code",
   "execution_count": null,
   "id": "80c7662d",
   "metadata": {},
   "outputs": [
    {
     "name": "stdout",
     "output_type": "stream",
     "text": [
      "# training samples = 202, # test samples = 23\n"
     ]
    }
   ],
   "source": [
    "## Train and test split of the data\n",
    "X = df.drop(\"price_per_sqft\", axis=1)\n",
    "y = df['price_per_sqft']\n",
    "X_train, X_test, y_train, y_test = train_test_split(X, y,\n",
    "                                                    test_size = 0.1,\n",
    "                                                    random_state = 1)\n",
    "print(f'# training samples = {X_train.shape[0]}, # test samples = {X_test.shape[0]}')"
   ]
  },
  {
   "cell_type": "markdown",
   "id": "5f622ce6",
   "metadata": {},
   "source": [
    "---\n",
    "\n",
    "Fit the pipeline on the train data and test on the test data\n",
    "\n",
    "---"
   ]
  },
  {
   "cell_type": "code",
   "execution_count": null,
   "id": "fcf699bf",
   "metadata": {},
   "outputs": [
    {
     "name": "stdout",
     "output_type": "stream",
     "text": [
      "Root Mean Squared Error = 1218.0418652430717\n",
      "r2_score = 0.8304448535750775\n"
     ]
    }
   ],
   "source": [
    "## Fit the model pipeline on the train data and test on the test data\n",
    "model_pipeline.fit(X_train, y_train)\n",
    "y_pred = model_pipeline.predict(X_test)\n",
    "print(f'Root Mean Squared Error = {np.sqrt(mean_squared_error(y_test, y_pred))}')\n",
    "print(f'r2_score = {r2_score(y_test, y_pred)}')"
   ]
  },
  {
   "cell_type": "markdown",
   "id": "6c988fe9",
   "metadata": {},
   "source": [
    "---\n",
    "\n",
    "Save model\n",
    "\n",
    "---"
   ]
  },
  {
   "cell_type": "code",
   "execution_count": null,
   "id": "98c46d21",
   "metadata": {},
   "outputs": [
    {
     "data": {
      "text/plain": [
       "['../model.pkl']"
      ]
     },
     "metadata": {},
     "output_type": "display_data"
    }
   ],
   "source": [
    "# Save model\n",
    "joblib.dump(model_pipeline, '../model.pkl')"
   ]
  }
 ],
 "metadata": {
  "kernelspec": {
   "display_name": "housepriceproject",
   "language": "python",
   "name": "python3"
  },
  "language_info": {
   "codemirror_mode": {
    "name": "ipython",
    "version": 3
   },
   "file_extension": ".py",
   "mimetype": "text/x-python",
   "name": "python",
   "nbconvert_exporter": "python",
   "pygments_lexer": "ipython3",
   "version": "3.9.23"
  }
 },
 "nbformat": 4,
 "nbformat_minor": 5
}
